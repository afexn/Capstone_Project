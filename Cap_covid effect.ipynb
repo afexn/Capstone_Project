{
 "cells": [
  {
   "cell_type": "code",
   "execution_count": 120,
   "id": "a38cf960",
   "metadata": {},
   "outputs": [],
   "source": [
    "import pandas as pd\n",
    "########\n",
    "import numpy as np\n",
    "import matplotlib.pyplot as plt\n",
    "import seaborn as sns\n",
    "import plotly.express as px\n",
    "\n",
    "from sklearn.linear_model import LinearRegression, Lasso, Ridge\n",
    "from sklearn.metrics.pairwise import polynomial_kernel, rbf_kernel\n",
    "from sklearn.pipeline import Pipeline\n",
    "from sklearn.preprocessing import StandardScaler, OneHotEncoder, PolynomialFeatures\n",
    "from sklearn.metrics import accuracy_score, recall_score, precision_score, classification_report\n",
    "\n",
    "from sklearn.preprocessing import MinMaxScaler\n",
    "from sklearn.metrics import mean_squared_error, r2_score\n",
    "from sklearn.model_selection import KFold, cross_val_predict\n",
    "\n",
    "from sklearn.model_selection import train_test_split\n",
    "\n",
    "import warnings \n",
    "warnings.filterwarnings('ignore')"
   ]
  },
  {
   "cell_type": "code",
   "execution_count": 121,
   "id": "abd09d95",
   "metadata": {},
   "outputs": [
    {
     "data": {
      "text/html": [
       "<div>\n",
       "<style scoped>\n",
       "    .dataframe tbody tr th:only-of-type {\n",
       "        vertical-align: middle;\n",
       "    }\n",
       "\n",
       "    .dataframe tbody tr th {\n",
       "        vertical-align: top;\n",
       "    }\n",
       "\n",
       "    .dataframe thead th {\n",
       "        text-align: right;\n",
       "    }\n",
       "</style>\n",
       "<table border=\"1\" class=\"dataframe\">\n",
       "  <thead>\n",
       "    <tr style=\"text-align: right;\">\n",
       "      <th></th>\n",
       "      <th>iso_code</th>\n",
       "      <th>location</th>\n",
       "      <th>date</th>\n",
       "      <th>total_cases</th>\n",
       "      <th>total_deaths</th>\n",
       "      <th>stringency_index</th>\n",
       "      <th>population</th>\n",
       "      <th>gdp_per_capita</th>\n",
       "      <th>human_development_index</th>\n",
       "      <th>Unnamed: 9</th>\n",
       "      <th>Unnamed: 10</th>\n",
       "      <th>Unnamed: 11</th>\n",
       "      <th>Unnamed: 12</th>\n",
       "      <th>Unnamed: 13</th>\n",
       "    </tr>\n",
       "  </thead>\n",
       "  <tbody>\n",
       "    <tr>\n",
       "      <th>0</th>\n",
       "      <td>AFG</td>\n",
       "      <td>Afghanistan</td>\n",
       "      <td>12/31/2019</td>\n",
       "      <td>0.0</td>\n",
       "      <td>0.0</td>\n",
       "      <td>0.0</td>\n",
       "      <td>38928341</td>\n",
       "      <td>1803.987</td>\n",
       "      <td>0.498</td>\n",
       "      <td>#NUM!</td>\n",
       "      <td>#NUM!</td>\n",
       "      <td>#NUM!</td>\n",
       "      <td>17.477233</td>\n",
       "      <td>7.497754494</td>\n",
       "    </tr>\n",
       "    <tr>\n",
       "      <th>1</th>\n",
       "      <td>AFG</td>\n",
       "      <td>Afghanistan</td>\n",
       "      <td>1/1/2020</td>\n",
       "      <td>0.0</td>\n",
       "      <td>0.0</td>\n",
       "      <td>0.0</td>\n",
       "      <td>38928341</td>\n",
       "      <td>1803.987</td>\n",
       "      <td>0.498</td>\n",
       "      <td>#NUM!</td>\n",
       "      <td>#NUM!</td>\n",
       "      <td>#NUM!</td>\n",
       "      <td>17.477233</td>\n",
       "      <td>7.497754494</td>\n",
       "    </tr>\n",
       "    <tr>\n",
       "      <th>2</th>\n",
       "      <td>AFG</td>\n",
       "      <td>Afghanistan</td>\n",
       "      <td>1/2/2020</td>\n",
       "      <td>0.0</td>\n",
       "      <td>0.0</td>\n",
       "      <td>0.0</td>\n",
       "      <td>38928341</td>\n",
       "      <td>1803.987</td>\n",
       "      <td>0.498</td>\n",
       "      <td>#NUM!</td>\n",
       "      <td>#NUM!</td>\n",
       "      <td>#NUM!</td>\n",
       "      <td>17.477233</td>\n",
       "      <td>7.497754494</td>\n",
       "    </tr>\n",
       "  </tbody>\n",
       "</table>\n",
       "</div>"
      ],
      "text/plain": [
       "  iso_code     location        date  total_cases  total_deaths  \\\n",
       "0      AFG  Afghanistan  12/31/2019          0.0           0.0   \n",
       "1      AFG  Afghanistan    1/1/2020          0.0           0.0   \n",
       "2      AFG  Afghanistan    1/2/2020          0.0           0.0   \n",
       "\n",
       "   stringency_index  population  gdp_per_capita  human_development_index  \\\n",
       "0               0.0    38928341        1803.987                    0.498   \n",
       "1               0.0    38928341        1803.987                    0.498   \n",
       "2               0.0    38928341        1803.987                    0.498   \n",
       "\n",
       "  Unnamed: 9 Unnamed: 10 Unnamed: 11  Unnamed: 12  Unnamed: 13  \n",
       "0      #NUM!       #NUM!       #NUM!    17.477233  7.497754494  \n",
       "1      #NUM!       #NUM!       #NUM!    17.477233  7.497754494  \n",
       "2      #NUM!       #NUM!       #NUM!    17.477233  7.497754494  "
      ]
     },
     "execution_count": 121,
     "metadata": {},
     "output_type": "execute_result"
    }
   ],
   "source": [
    "df = pd.read_csv('Covid_data.csv', sep=',')\n",
    "df.head(3)"
   ]
  },
  {
   "cell_type": "code",
   "execution_count": 122,
   "id": "06efb80e",
   "metadata": {},
   "outputs": [
    {
     "data": {
      "text/html": [
       "<div>\n",
       "<style scoped>\n",
       "    .dataframe tbody tr th:only-of-type {\n",
       "        vertical-align: middle;\n",
       "    }\n",
       "\n",
       "    .dataframe tbody tr th {\n",
       "        vertical-align: top;\n",
       "    }\n",
       "\n",
       "    .dataframe thead th {\n",
       "        text-align: right;\n",
       "    }\n",
       "</style>\n",
       "<table border=\"1\" class=\"dataframe\">\n",
       "  <thead>\n",
       "    <tr style=\"text-align: right;\">\n",
       "      <th></th>\n",
       "      <th>location</th>\n",
       "      <th>date</th>\n",
       "      <th>total_cases</th>\n",
       "      <th>total_deaths</th>\n",
       "      <th>stringency_index</th>\n",
       "      <th>population</th>\n",
       "      <th>gdp_per_capita</th>\n",
       "      <th>human_development_index</th>\n",
       "    </tr>\n",
       "  </thead>\n",
       "  <tbody>\n",
       "    <tr>\n",
       "      <th>0</th>\n",
       "      <td>Afghanistan</td>\n",
       "      <td>12/31/2019</td>\n",
       "      <td>0.0</td>\n",
       "      <td>0.0</td>\n",
       "      <td>0.0</td>\n",
       "      <td>38928341</td>\n",
       "      <td>1803.987</td>\n",
       "      <td>0.498</td>\n",
       "    </tr>\n",
       "    <tr>\n",
       "      <th>1</th>\n",
       "      <td>Afghanistan</td>\n",
       "      <td>1/1/2020</td>\n",
       "      <td>0.0</td>\n",
       "      <td>0.0</td>\n",
       "      <td>0.0</td>\n",
       "      <td>38928341</td>\n",
       "      <td>1803.987</td>\n",
       "      <td>0.498</td>\n",
       "    </tr>\n",
       "  </tbody>\n",
       "</table>\n",
       "</div>"
      ],
      "text/plain": [
       "      location        date  total_cases  total_deaths  stringency_index  \\\n",
       "0  Afghanistan  12/31/2019          0.0           0.0               0.0   \n",
       "1  Afghanistan    1/1/2020          0.0           0.0               0.0   \n",
       "\n",
       "   population  gdp_per_capita  human_development_index  \n",
       "0    38928341        1803.987                    0.498  \n",
       "1    38928341        1803.987                    0.498  "
      ]
     },
     "execution_count": 122,
     "metadata": {},
     "output_type": "execute_result"
    }
   ],
   "source": [
    "df_ = df.drop(['iso_code','Unnamed: 9', 'Unnamed: 10', 'Unnamed: 11', 'Unnamed: 12', 'Unnamed: 13'], axis = 1)\n",
    "df_.head(2)"
   ]
  },
  {
   "cell_type": "code",
   "execution_count": 123,
   "id": "9c551dcb",
   "metadata": {},
   "outputs": [
    {
     "data": {
      "text/html": [
       "<div>\n",
       "<style scoped>\n",
       "    .dataframe tbody tr th:only-of-type {\n",
       "        vertical-align: middle;\n",
       "    }\n",
       "\n",
       "    .dataframe tbody tr th {\n",
       "        vertical-align: top;\n",
       "    }\n",
       "\n",
       "    .dataframe thead th {\n",
       "        text-align: right;\n",
       "    }\n",
       "</style>\n",
       "<table border=\"1\" class=\"dataframe\">\n",
       "  <thead>\n",
       "    <tr style=\"text-align: right;\">\n",
       "      <th></th>\n",
       "      <th>location</th>\n",
       "      <th>date</th>\n",
       "      <th>total_cases</th>\n",
       "      <th>total_deaths</th>\n",
       "      <th>stringency_index</th>\n",
       "      <th>population</th>\n",
       "      <th>gdp_per_capita</th>\n",
       "      <th>human_development_index</th>\n",
       "    </tr>\n",
       "  </thead>\n",
       "  <tbody>\n",
       "    <tr>\n",
       "      <th>0</th>\n",
       "      <td>Afghanistan</td>\n",
       "      <td>12/31/2019</td>\n",
       "      <td>0.0</td>\n",
       "      <td>0.0</td>\n",
       "      <td>0.0</td>\n",
       "      <td>38928341</td>\n",
       "      <td>1803.987</td>\n",
       "      <td>0.498</td>\n",
       "    </tr>\n",
       "    <tr>\n",
       "      <th>1</th>\n",
       "      <td>Afghanistan</td>\n",
       "      <td>1/1/2020</td>\n",
       "      <td>0.0</td>\n",
       "      <td>0.0</td>\n",
       "      <td>0.0</td>\n",
       "      <td>38928341</td>\n",
       "      <td>1803.987</td>\n",
       "      <td>0.498</td>\n",
       "    </tr>\n",
       "  </tbody>\n",
       "</table>\n",
       "</div>"
      ],
      "text/plain": [
       "      location        date  total_cases  total_deaths  stringency_index  \\\n",
       "0  Afghanistan  12/31/2019          0.0           0.0               0.0   \n",
       "1  Afghanistan    1/1/2020          0.0           0.0               0.0   \n",
       "\n",
       "   population  gdp_per_capita  human_development_index  \n",
       "0    38928341        1803.987                    0.498  \n",
       "1    38928341        1803.987                    0.498  "
      ]
     },
     "execution_count": 123,
     "metadata": {},
     "output_type": "execute_result"
    }
   ],
   "source": [
    "df1 = df_.dropna(axis=0)\n",
    "df1.head(2)"
   ]
  },
  {
   "cell_type": "markdown",
   "id": "ec85af21",
   "metadata": {},
   "source": [
    "# Non-transfromed Data\n",
    "\n",
    "       # Plot 1.\n",
    "The gross domestic product (gdp per capita) indicates very low as the human development index very major percentage of it dispersed in the scale range of 0.4 to 1, and the cluster of data sets in the figure below has a downward parabolic curve."
   ]
  },
  {
   "cell_type": "code",
   "execution_count": 124,
   "id": "4bdabed9",
   "metadata": {},
   "outputs": [
    {
     "data": {
      "text/plain": [
       "<AxesSubplot:xlabel='gdp_per_capita', ylabel='human_development_index'>"
      ]
     },
     "execution_count": 124,
     "metadata": {},
     "output_type": "execute_result"
    },
    {
     "data": {
      "image/png": "[encoded data removed]",
      "text/plain": [
       "<Figure size 432x288 with 1 Axes>"
      ]
     },
     "metadata": {
      "needs_background": "light"
     },
     "output_type": "display_data"
    }
   ],
   "source": [
    "sns.scatterplot(data=df_, x=\"gdp_per_capita\", y=\"human_development_index\")"
   ]
  },
  {
   "cell_type": "markdown",
   "id": "5454ad9b",
   "metadata": {},
   "source": [
    "# Log-transformation\n",
    "\n",
    "The target variable(features) in a log-level regression model is log-transformed, while the parameters are not. We must first exponentiate the coefficients of the variables before we can interpret the coefficients of a log-level regression.The data type in linear or regular form was skewed.\n",
    "\n",
    "The data from the plot above is significantly different because it is now linearly skewed as a result of the data transformation."
   ]
  },
  {
   "cell_type": "code",
   "execution_count": 140,
   "id": "fbbc2941",
   "metadata": {},
   "outputs": [],
   "source": [
    "df1['gdp_per_capita']= df1['gdp_per_capita'].apply(lambda x: np.log(x + 1))\n",
    "df1['total_deaths'] = df1['total_deaths'].apply(lambda x: np.log(x + 1))\n",
    "df1['total_cases'] = df1['total_cases'].apply(lambda x: np.log(x + 1))\n",
    "df1['population'] = df1['population'].apply(lambda x: np.log(x + 1))\n",
    "df1['stringency_index'] = df1['stringency_index'].apply(lambda x: np.log(x + 1))\n",
    "df1['human_development_index'] = df1['human_development_index'].apply(lambda x: np.log(x + 1))"
   ]
  },
  {
   "cell_type": "code",
   "execution_count": 141,
   "id": "b6b3cc2a",
   "metadata": {},
   "outputs": [],
   "source": [
    "df1 = df1.dropna(axis=0)\n",
    "X = df1.drop(['stringency_index','total_deaths', 'human_development_index'], axis=1)\n",
    "y = df1['gdp_per_capita']"
   ]
  },
  {
   "cell_type": "markdown",
   "id": "5d0f2d70",
   "metadata": {},
   "source": [
    "            # Plot 2.\n",
    " The really gdp_per_capita data shows slightly skewed to the right."
   ]
  },
  {
   "cell_type": "code",
   "execution_count": 219,
   "id": "8103f61e",
   "metadata": {},
   "outputs": [
    {
     "data": {
      "image/png": "[encoded data removed]",
      "text/plain": [
       "<Figure size 432x288 with 1 Axes>"
      ]
     },
     "metadata": {
      "needs_background": "light"
     },
     "output_type": "display_data"
    }
   ],
   "source": [
    "y.hist().set_title('gdp_per_capita')\n",
    "\n",
    "plt.show()"
   ]
  },
  {
   "cell_type": "markdown",
   "id": "bd891ebe",
   "metadata": {},
   "source": [
    "      # Plot 3.\n",
    " After tranforming the data, the real gdp_per_capita data shows rapidly skewed to the right. "
   ]
  },
  {
   "cell_type": "code",
   "execution_count": 143,
   "id": "2f636c99",
   "metadata": {},
   "outputs": [
    {
     "data": {
      "image/png": "[encoded data removed]",
      "text/plain": [
       "<Figure size 432x288 with 1 Axes>"
      ]
     },
     "metadata": {
      "needs_background": "light"
     },
     "output_type": "display_data"
    }
   ],
   "source": [
    "np.log1p(y).hist().set_title('Log of gdp_per_capita')\n",
    "\n",
    "plt.show()"
   ]
  },
  {
   "cell_type": "markdown",
   "id": "e58edb6b",
   "metadata": {},
   "source": [
    "        # Plot 4.\n",
    "The modified version of plot1, as shown below , clusters all the data with a minimal margin of error and shows an ascending form of functions."
   ]
  },
  {
   "cell_type": "code",
   "execution_count": 144,
   "id": "013f7764",
   "metadata": {},
   "outputs": [
    {
     "data": {
      "text/plain": [
       "<AxesSubplot:xlabel='gdp_per_capita', ylabel='human_development_index'>"
      ]
     },
     "execution_count": 144,
     "metadata": {},
     "output_type": "execute_result"
    },
    {
     "data": {
      "image/png": "[encoded data removed]",
      "text/plain": [
       "<Figure size 432x288 with 1 Axes>"
      ]
     },
     "metadata": {
      "needs_background": "light"
     },
     "output_type": "display_data"
    }
   ],
   "source": [
    "sns.scatterplot(data=df1, x=\"gdp_per_capita\", y=\"human_development_index\")"
   ]
  },
  {
   "cell_type": "markdown",
   "id": "0ecf21d1",
   "metadata": {},
   "source": [
    "# dummy\n",
    "constructs dummy variables with categorical features. I drop the column variable that the column dummy was used to allocate where the model was overfitting the dataset. Usually, this variable is used to split multiple groups."
   ]
  },
  {
   "cell_type": "code",
   "execution_count": 145,
   "id": "b9e7d83c",
   "metadata": {},
   "outputs": [
    {
     "data": {
      "text/html": [
       "<div>\n",
       "<style scoped>\n",
       "    .dataframe tbody tr th:only-of-type {\n",
       "        vertical-align: middle;\n",
       "    }\n",
       "\n",
       "    .dataframe tbody tr th {\n",
       "        vertical-align: top;\n",
       "    }\n",
       "\n",
       "    .dataframe thead th {\n",
       "        text-align: right;\n",
       "    }\n",
       "</style>\n",
       "<table border=\"1\" class=\"dataframe\">\n",
       "  <thead>\n",
       "    <tr style=\"text-align: right;\">\n",
       "      <th></th>\n",
       "      <th>total_cases</th>\n",
       "      <th>total_deaths</th>\n",
       "      <th>stringency_index</th>\n",
       "      <th>population</th>\n",
       "      <th>gdp_per_capita</th>\n",
       "      <th>human_development_index</th>\n",
       "      <th>location_Albania</th>\n",
       "      <th>location_Algeria</th>\n",
       "      <th>location_Angola</th>\n",
       "      <th>location_Argentina</th>\n",
       "      <th>...</th>\n",
       "      <th>date_9/28/2020</th>\n",
       "      <th>date_9/29/2020</th>\n",
       "      <th>date_9/3/2020</th>\n",
       "      <th>date_9/30/2020</th>\n",
       "      <th>date_9/4/2020</th>\n",
       "      <th>date_9/5/2020</th>\n",
       "      <th>date_9/6/2020</th>\n",
       "      <th>date_9/7/2020</th>\n",
       "      <th>date_9/8/2020</th>\n",
       "      <th>date_9/9/2020</th>\n",
       "    </tr>\n",
       "  </thead>\n",
       "  <tbody>\n",
       "    <tr>\n",
       "      <th>0</th>\n",
       "      <td>0.0</td>\n",
       "      <td>0.0</td>\n",
       "      <td>0.0</td>\n",
       "      <td>2.916539</td>\n",
       "      <td>0.177142</td>\n",
       "      <td>0.404131</td>\n",
       "      <td>0</td>\n",
       "      <td>0</td>\n",
       "      <td>0</td>\n",
       "      <td>0</td>\n",
       "      <td>...</td>\n",
       "      <td>0</td>\n",
       "      <td>0</td>\n",
       "      <td>0</td>\n",
       "      <td>0</td>\n",
       "      <td>0</td>\n",
       "      <td>0</td>\n",
       "      <td>0</td>\n",
       "      <td>0</td>\n",
       "      <td>0</td>\n",
       "      <td>0</td>\n",
       "    </tr>\n",
       "    <tr>\n",
       "      <th>1</th>\n",
       "      <td>0.0</td>\n",
       "      <td>0.0</td>\n",
       "      <td>0.0</td>\n",
       "      <td>2.916539</td>\n",
       "      <td>0.177142</td>\n",
       "      <td>0.404131</td>\n",
       "      <td>0</td>\n",
       "      <td>0</td>\n",
       "      <td>0</td>\n",
       "      <td>0</td>\n",
       "      <td>...</td>\n",
       "      <td>0</td>\n",
       "      <td>0</td>\n",
       "      <td>0</td>\n",
       "      <td>0</td>\n",
       "      <td>0</td>\n",
       "      <td>0</td>\n",
       "      <td>0</td>\n",
       "      <td>0</td>\n",
       "      <td>0</td>\n",
       "      <td>0</td>\n",
       "    </tr>\n",
       "  </tbody>\n",
       "</table>\n",
       "<p>2 rows × 452 columns</p>\n",
       "</div>"
      ],
      "text/plain": [
       "   total_cases  total_deaths  stringency_index  population  gdp_per_capita  \\\n",
       "0          0.0           0.0               0.0    2.916539        0.177142   \n",
       "1          0.0           0.0               0.0    2.916539        0.177142   \n",
       "\n",
       "   human_development_index  location_Albania  location_Algeria  \\\n",
       "0                 0.404131                 0                 0   \n",
       "1                 0.404131                 0                 0   \n",
       "\n",
       "   location_Angola  location_Argentina  ...  date_9/28/2020  date_9/29/2020  \\\n",
       "0                0                   0  ...               0               0   \n",
       "1                0                   0  ...               0               0   \n",
       "\n",
       "   date_9/3/2020  date_9/30/2020  date_9/4/2020  date_9/5/2020  date_9/6/2020  \\\n",
       "0              0               0              0              0              0   \n",
       "1              0               0              0              0              0   \n",
       "\n",
       "   date_9/7/2020  date_9/8/2020  date_9/9/2020  \n",
       "0              0              0              0  \n",
       "1              0              0              0  \n",
       "\n",
       "[2 rows x 452 columns]"
      ]
     },
     "execution_count": 145,
     "metadata": {},
     "output_type": "execute_result"
    }
   ],
   "source": [
    "df2 = pd.get_dummies(df1,drop_first=True)\n",
    "df2.head(2)"
   ]
  },
  {
   "cell_type": "markdown",
   "id": "444a9257",
   "metadata": {},
   "source": [
    "# Normalization\n",
    "Add a scaler to the data to normalize it. This demonstrates that each feature is processed evenly when in use.normalize the columns of total_cases, total_deaths, & gdp_per_capita."
   ]
  },
  {
   "cell_type": "code",
   "execution_count": 146,
   "id": "f2489799",
   "metadata": {},
   "outputs": [
    {
     "data": {
      "text/html": [
       "<div>\n",
       "<style scoped>\n",
       "    .dataframe tbody tr th:only-of-type {\n",
       "        vertical-align: middle;\n",
       "    }\n",
       "\n",
       "    .dataframe tbody tr th {\n",
       "        vertical-align: top;\n",
       "    }\n",
       "\n",
       "    .dataframe thead th {\n",
       "        text-align: right;\n",
       "    }\n",
       "</style>\n",
       "<table border=\"1\" class=\"dataframe\">\n",
       "  <thead>\n",
       "    <tr style=\"text-align: right;\">\n",
       "      <th></th>\n",
       "      <th>location</th>\n",
       "      <th>date</th>\n",
       "      <th>total_cases</th>\n",
       "      <th>total_deaths</th>\n",
       "      <th>stringency_index</th>\n",
       "      <th>population</th>\n",
       "      <th>gdp_per_capita</th>\n",
       "      <th>human_development_index</th>\n",
       "    </tr>\n",
       "  </thead>\n",
       "  <tbody>\n",
       "    <tr>\n",
       "      <th>50415</th>\n",
       "      <td>Zimbabwe</td>\n",
       "      <td>10/17/2020</td>\n",
       "      <td>0.648253</td>\n",
       "      <td>0.529713</td>\n",
       "      <td>1.67799</td>\n",
       "      <td>2.863022</td>\n",
       "      <td>0.26759</td>\n",
       "      <td>0.42853</td>\n",
       "    </tr>\n",
       "    <tr>\n",
       "      <th>50416</th>\n",
       "      <td>Zimbabwe</td>\n",
       "      <td>10/18/2020</td>\n",
       "      <td>0.648331</td>\n",
       "      <td>0.529713</td>\n",
       "      <td>1.67799</td>\n",
       "      <td>2.863022</td>\n",
       "      <td>0.26759</td>\n",
       "      <td>0.42853</td>\n",
       "    </tr>\n",
       "    <tr>\n",
       "      <th>50417</th>\n",
       "      <td>Zimbabwe</td>\n",
       "      <td>10/19/2020</td>\n",
       "      <td>0.648596</td>\n",
       "      <td>0.529713</td>\n",
       "      <td>1.67799</td>\n",
       "      <td>2.863022</td>\n",
       "      <td>0.26759</td>\n",
       "      <td>0.42853</td>\n",
       "    </tr>\n",
       "  </tbody>\n",
       "</table>\n",
       "</div>"
      ],
      "text/plain": [
       "       location        date  total_cases  total_deaths  stringency_index  \\\n",
       "50415  Zimbabwe  10/17/2020     0.648253      0.529713           1.67799   \n",
       "50416  Zimbabwe  10/18/2020     0.648331      0.529713           1.67799   \n",
       "50417  Zimbabwe  10/19/2020     0.648596      0.529713           1.67799   \n",
       "\n",
       "       population  gdp_per_capita  human_development_index  \n",
       "50415    2.863022         0.26759                  0.42853  \n",
       "50416    2.863022         0.26759                  0.42853  \n",
       "50417    2.863022         0.26759                  0.42853  "
      ]
     },
     "execution_count": 146,
     "metadata": {},
     "output_type": "execute_result"
    }
   ],
   "source": [
    "normal = MinMaxScaler()\n",
    "normalize = ['total_cases','total_deaths', 'gdp_per_capita']\n",
    "normal_trans = pd.DataFrame(data = df1)\n",
    "normal_trans[normalize] = normal.fit_transform(df1[normalize])\n",
    "normal_trans.tail(3)"
   ]
  },
  {
   "cell_type": "markdown",
   "id": "1c0a2a1c",
   "metadata": {},
   "source": [
    "# Correlation\n",
    "\n",
    "Value is the proportion of a variable's variation between each features in the data set. The human development index has a 0.86 correlation with gdp per capita variables that indicates have linear relationship.Additionally, as the overall number of cases rises, so does the number of deaths, which is 0.92 & this also have positive relationship, research shows that when the number of cases rises, the death toll similarly rises. Nonetheless, there is a -0.14 correlation between the GDP and the population which is negative relationship."
   ]
  },
  {
   "cell_type": "code",
   "execution_count": 147,
   "id": "5815aa87",
   "metadata": {},
   "outputs": [
    {
     "data": {
      "text/html": [
       "<div>\n",
       "<style scoped>\n",
       "    .dataframe tbody tr th:only-of-type {\n",
       "        vertical-align: middle;\n",
       "    }\n",
       "\n",
       "    .dataframe tbody tr th {\n",
       "        vertical-align: top;\n",
       "    }\n",
       "\n",
       "    .dataframe thead th {\n",
       "        text-align: right;\n",
       "    }\n",
       "</style>\n",
       "<table border=\"1\" class=\"dataframe\">\n",
       "  <thead>\n",
       "    <tr style=\"text-align: right;\">\n",
       "      <th></th>\n",
       "      <th>total_cases</th>\n",
       "      <th>total_deaths</th>\n",
       "      <th>stringency_index</th>\n",
       "      <th>population</th>\n",
       "      <th>gdp_per_capita</th>\n",
       "      <th>human_development_index</th>\n",
       "    </tr>\n",
       "  </thead>\n",
       "  <tbody>\n",
       "    <tr>\n",
       "      <th>total_cases</th>\n",
       "      <td>1.000000</td>\n",
       "      <td>0.915779</td>\n",
       "      <td>0.395720</td>\n",
       "      <td>0.389613</td>\n",
       "      <td>0.251188</td>\n",
       "      <td>0.246688</td>\n",
       "    </tr>\n",
       "    <tr>\n",
       "      <th>total_deaths</th>\n",
       "      <td>0.915779</td>\n",
       "      <td>1.000000</td>\n",
       "      <td>0.248243</td>\n",
       "      <td>0.470490</td>\n",
       "      <td>0.255086</td>\n",
       "      <td>0.255559</td>\n",
       "    </tr>\n",
       "    <tr>\n",
       "      <th>stringency_index</th>\n",
       "      <td>0.395720</td>\n",
       "      <td>0.248243</td>\n",
       "      <td>1.000000</td>\n",
       "      <td>0.040776</td>\n",
       "      <td>-0.038076</td>\n",
       "      <td>-0.050384</td>\n",
       "    </tr>\n",
       "    <tr>\n",
       "      <th>population</th>\n",
       "      <td>0.389613</td>\n",
       "      <td>0.470490</td>\n",
       "      <td>0.040776</td>\n",
       "      <td>1.000000</td>\n",
       "      <td>-0.136268</td>\n",
       "      <td>-0.068230</td>\n",
       "    </tr>\n",
       "    <tr>\n",
       "      <th>gdp_per_capita</th>\n",
       "      <td>0.251188</td>\n",
       "      <td>0.255086</td>\n",
       "      <td>-0.038076</td>\n",
       "      <td>-0.136268</td>\n",
       "      <td>1.000000</td>\n",
       "      <td>0.862014</td>\n",
       "    </tr>\n",
       "    <tr>\n",
       "      <th>human_development_index</th>\n",
       "      <td>0.246688</td>\n",
       "      <td>0.255559</td>\n",
       "      <td>-0.050384</td>\n",
       "      <td>-0.068230</td>\n",
       "      <td>0.862014</td>\n",
       "      <td>1.000000</td>\n",
       "    </tr>\n",
       "  </tbody>\n",
       "</table>\n",
       "</div>"
      ],
      "text/plain": [
       "                         total_cases  total_deaths  stringency_index  \\\n",
       "total_cases                 1.000000      0.915779          0.395720   \n",
       "total_deaths                0.915779      1.000000          0.248243   \n",
       "stringency_index            0.395720      0.248243          1.000000   \n",
       "population                  0.389613      0.470490          0.040776   \n",
       "gdp_per_capita              0.251188      0.255086         -0.038076   \n",
       "human_development_index     0.246688      0.255559         -0.050384   \n",
       "\n",
       "                         population  gdp_per_capita  human_development_index  \n",
       "total_cases                0.389613        0.251188                 0.246688  \n",
       "total_deaths               0.470490        0.255086                 0.255559  \n",
       "stringency_index           0.040776       -0.038076                -0.050384  \n",
       "population                 1.000000       -0.136268                -0.068230  \n",
       "gdp_per_capita            -0.136268        1.000000                 0.862014  \n",
       "human_development_index   -0.068230        0.862014                 1.000000  "
      ]
     },
     "execution_count": 147,
     "metadata": {},
     "output_type": "execute_result"
    }
   ],
   "source": [
    "df1.corr()"
   ]
  },
  {
   "cell_type": "markdown",
   "id": "be0f81d4",
   "metadata": {},
   "source": [
    "# Map\n",
    "The heatmap plot displaying additional data details of the data's interrelationships.\n",
    "Total_deaths and Total_cases have a higher correlation of 92%, and Gdp_per_Capita and Human_Development_Index are at the next level with an 86% correlation. In all of the columns of data given the correlation, Gdp_per_Capita has a lower correlation that doesn't have correlates with each other except with the Human_Development_Index."
   ]
  },
  {
   "cell_type": "code",
   "execution_count": 148,
   "id": "352ddd4d",
   "metadata": {},
   "outputs": [
    {
     "data": {
      "image/png": "[encoded data removed]",
      "text/plain": [
       "<Figure size 720x576 with 2 Axes>"
      ]
     },
     "metadata": {},
     "output_type": "display_data"
    }
   ],
   "source": [
    "# the data correlation\n",
    "plt.figure(figsize = [10, 8], clear = True, facecolor = '#e7fbf3')\n",
    "sns.heatmap(df1.corr(), annot = True, square = False, linewidths = 5,\n",
    "            linecolor = \"white\", cmap = \"Oranges\");"
   ]
  },
  {
   "cell_type": "markdown",
   "id": "fc9296ad",
   "metadata": {},
   "source": [
    "# METHODS\n",
    "\n",
    "Split the data into training and testing sets of normalized dataset. presents the split function results for the training and testing sets, which have 22062 and 9456 samples, respectively.\n",
    "   \n",
    "       Regression Types:\n",
    "   \n",
    "using Linear Regression,Lasso Regression, Ridge Regression, StandardScaler, Pipeline with split functions & k-fold method. The k-fold cross validation method is used to evaluate how effectively the method performed on data."
   ]
  },
  {
   "cell_type": "code",
   "execution_count": 217,
   "id": "ed5b7b00",
   "metadata": {},
   "outputs": [
    {
     "name": "stdout",
     "output_type": "stream",
     "text": [
      "Training: 22062 samples.\n",
      "Testing: 9456 samples.\n"
     ]
    }
   ],
   "source": [
    "xx =  normal_trans[['total_cases','total_deaths','stringency_index','population','human_development_index']]\n",
    "yy = normal_trans['gdp_per_capita']\n",
    "\n",
    "X_train, X_test, y_train, y_test = train_test_split(xx, yy, test_size = 0.3, random_state = 42)\n",
    "\n",
    "print(\"Training: {} samples.\".format(X_train.shape[0]))\n",
    "print(\"Testing: {} samples.\".format(X_test.shape[0]))"
   ]
  },
  {
   "cell_type": "markdown",
   "id": "45b7c6cd",
   "metadata": {},
   "source": [
    "# Cross- Validation & split function\n",
    "I'm using cross-validation compares and evaluates classification algorithm by splitting data  for testing or training a model.\n",
    "The use of a regression model with a small random state size and k-fold cross validation techniques makes it simpler to validate the variables.\n"
   ]
  },
  {
   "cell_type": "markdown",
   "id": "933cc5d1",
   "metadata": {},
   "source": [
    "# 1. Linear Regression\n",
    "\n",
    "    # Variance & Pipeline\n",
    "Determines the percentage of the dependent variable's variance that the independent variable. The variance scores of the variables exhibit fairly similar results to each other when using the Standard Scaler and Linear Regression, with values of 0.756 and 0.757, respectively."
   ]
  },
  {
   "cell_type": "code",
   "execution_count": 214,
   "id": "d2de8bdd",
   "metadata": {},
   "outputs": [
    {
     "data": {
      "text/plain": [
       "(0.7571553062614611, 0.7568279377533216)"
      ]
     },
     "execution_count": 214,
     "metadata": {},
     "output_type": "execute_result"
    }
   ],
   "source": [
    "k_fold = KFold(shuffle=True, random_state=54, n_splits=4)\n",
    "\n",
    "#regression and K-fold cross validation\n",
    "scaling = StandardScaler()\n",
    "lrg = LinearRegression()\n",
    "\n",
    "X_train_ = scaling.fit_transform(X_train)\n",
    "lrg.fit(X_train_, y_train)\n",
    "X_test = scaling.transform(X_test)  \n",
    "y_pred = lrg.predict(X_test)\n",
    "scaling_score = r2_score(y_test.values, y_pred)\n",
    "\n",
    "# with pipeline\n",
    "pipe = Pipeline([(\"scaler\", scaling),(\"regression\", lrg)])\n",
    "preds_lrg = cross_val_predict(pipe, X_train, y_train, cv=k_fold)\n",
    "lin_score = r2_score(y_train, preds_lrg)\n",
    "\n",
    "lin_score, scaling_score"
   ]
  },
  {
   "cell_type": "markdown",
   "id": "0665a3e3",
   "metadata": {},
   "source": [
    "# 1.a R^2 score\n",
    "Regardless of the significance of the independent variable, a low R-squared value means that it does not explain much of the variation in the dependent variable."
   ]
  },
  {
   "cell_type": "code",
   "execution_count": 215,
   "id": "1ef99b59",
   "metadata": {},
   "outputs": [
    {
     "data": {
      "text/plain": [
       "0.7568279377533216"
      ]
     },
     "execution_count": 215,
     "metadata": {},
     "output_type": "execute_result"
    }
   ],
   "source": [
    "lrg.score(X_test, y_test)"
   ]
  },
  {
   "cell_type": "markdown",
   "id": "025a9710",
   "metadata": {},
   "source": [
    "# 1.b Linear RMSE\n",
    "A Linear Regression model may fit a dataset more accurately as the result generates a lower RMSE.The simulated and observed data are more accurate since they are close to one another.at which RMSE is 0.030."
   ]
  },
  {
   "cell_type": "code",
   "execution_count": 170,
   "id": "7fad068d",
   "metadata": {},
   "outputs": [
    {
     "data": {
      "text/plain": [
       "0.013029914331507629"
      ]
     },
     "execution_count": 170,
     "metadata": {},
     "output_type": "execute_result"
    }
   ],
   "source": [
    "lin_Regr_rmse = mean_squared_error(y_test, lrg.predict(X_test))\n",
    "lin_Regr_rmse"
   ]
  },
  {
   "cell_type": "code",
   "execution_count": 152,
   "id": "c2dbe2b2",
   "metadata": {},
   "outputs": [
    {
     "data": {
      "text/plain": [
       "1.0755279455545173"
      ]
     },
     "execution_count": 152,
     "metadata": {},
     "output_type": "execute_result"
    }
   ],
   "source": [
    "# gdp_per_capita & stringency _index have high RMSE, which means they are highly correelates each other.\n",
    "RMSE = mean_squared_error(df1['gdp_per_capita'], df1['stringency_index'])\n",
    "RMSE"
   ]
  },
  {
   "cell_type": "code",
   "execution_count": 153,
   "id": "81c3f32e",
   "metadata": {},
   "outputs": [
    {
     "data": {
      "text/plain": [
       "0.03027196139442926"
      ]
     },
     "execution_count": 153,
     "metadata": {},
     "output_type": "execute_result"
    }
   ],
   "source": [
    "# total_cases & total_deaths have very low RMSE, which means they aren't correelated to each other.\n",
    "RMSE_ = mean_squared_error(df1['total_cases'], df1['total_deaths'])\n",
    "RMSE_"
   ]
  },
  {
   "cell_type": "code",
   "execution_count": 220,
   "id": "36a4b722",
   "metadata": {},
   "outputs": [],
   "source": [
    "#df1['stringency_index'].plot(figsize=(20,5))"
   ]
  },
  {
   "cell_type": "code",
   "execution_count": 221,
   "id": "40be12b3",
   "metadata": {},
   "outputs": [],
   "source": [
    "# prop= df1['total_cases'] / df1['human_development_index']\n",
    "# ax1 = prop.plot(figsize=(20,5))"
   ]
  },
  {
   "cell_type": "code",
   "execution_count": 222,
   "id": "4ee0b217",
   "metadata": {},
   "outputs": [],
   "source": [
    "# global_proportion = df1['total_deaths'] / df1['gdp_per_capita']\n",
    "# ax1 = global_proportion.plot(figsize=(20,5))"
   ]
  },
  {
   "cell_type": "code",
   "execution_count": 223,
   "id": "f6adeeb8",
   "metadata": {},
   "outputs": [
    {
     "data": {
      "image/png": "[encoded data removed]",
      "text/plain": [
       "<Figure size 1440x360 with 1 Axes>"
      ]
     },
     "metadata": {
      "needs_background": "light"
     },
     "output_type": "display_data"
    }
   ],
   "source": [
    "global_prop = df1['stringency_index'] / df1['gdp_per_capita']\n",
    "ax1 = global_prop.plot(figsize=(20,5))"
   ]
  },
  {
   "cell_type": "markdown",
   "id": "3e1943b1",
   "metadata": {},
   "source": [
    "# 2. Lasso Regression\n",
    "\n",
    "The lasso regression plot indicated a negative correlation between the variables' parameter values. This once again demonstrates that when alpha increases, model complexity decreases.\n",
    "\n",
    "# Plot\n",
    "The graphic demonstrates that as the alpha variable increases, the Root Squared decreases and approaches asymptotical zero, and as alpha values are lower, the Root Squared increases to > 80%, indicating that the variables are less diverse."
   ]
  },
  {
   "cell_type": "code",
   "execution_count": 157,
   "id": "28f54bfe",
   "metadata": {},
   "outputs": [
    {
     "data": {
      "image/png": "[encoded data removed]",
      "text/plain": [
       "<Figure size 432x288 with 1 Axes>"
      ]
     },
     "metadata": {
      "needs_background": "light"
     },
     "output_type": "display_data"
    }
   ],
   "source": [
    "# Regression & Pipe line function\n",
    "\n",
    "Poly = PolynomialFeatures(degree=5)\n",
    "scores = []\n",
    "alphas = np.geomspace(0.02, 10.0, 30)\n",
    "predict_reg = []\n",
    "for alpha in alphas:\n",
    "    reg_alpha = Lasso(alpha=alpha, max_iter=10000)\n",
    "    \n",
    "    Pipe = Pipeline([(\"scaler\", scaling), (\"feature\", Poly), (\"lasso\", reg_alpha)])\n",
    "\n",
    "    predict_reg = cross_val_predict(Pipe, X_train, y_train)\n",
    "    \n",
    "    score = r2_score(y_train, predict_reg)\n",
    "    \n",
    "    scores.append(score)\n",
    "plt.semilogx(alphas, scores, '--o', color='green')\n",
    "plt.title('Lasso Regression')\n",
    "plt.xlabel('$\\\\alpha$')\n",
    "plt.ylabel('$R^2$');"
   ]
  },
  {
   "cell_type": "markdown",
   "id": "942ea333",
   "metadata": {},
   "source": [
    "# 2.a R^2 Score\n",
    "the significance of the independent variable, a low R-squared value means that it does not explain much of the variation in the dependent variable.In contrast, Root Square's variation of 9.25% is relatively small."
   ]
  },
  {
   "cell_type": "code",
   "execution_count": 203,
   "id": "8bf0c181",
   "metadata": {},
   "outputs": [
    {
     "data": {
      "text/plain": [
       "0.009254834875907725"
      ]
     },
     "execution_count": 203,
     "metadata": {},
     "output_type": "execute_result"
    }
   ],
   "source": [
    "pipe_lasso = Pipeline([\n",
    "                    (\"scaler\", scaling),\n",
    "                    (\"Poly\", PolynomialFeatures(degree=4)),\n",
    "                    (\"reg_alpha\", Lasso(alpha=0.5))])\n",
    "\n",
    "pipe_lasso.fit(X_train, y_train)\n",
    "las_score = pipe_lasso.score(X_train, y_train)\n",
    "las_score"
   ]
  },
  {
   "cell_type": "markdown",
   "id": "21381a19",
   "metadata": {},
   "source": [
    "# 2.b Lasso RMSE\n",
    "I'm taking into consideration that Lasso Regression generates a greater Root Mean Square Error than the regression types; when the test set's RMSE is considerably higher than the training set's, I definitely overfit the data, resulting in a model that performs well when tested within a sample but poorly predicts outcomes when tested outside of it, at which RMSE is 0.0515."
   ]
  },
  {
   "cell_type": "code",
   "execution_count": 205,
   "id": "8f246ea8",
   "metadata": {},
   "outputs": [
    {
     "data": {
      "text/plain": [
       "0.05155158643170242"
      ]
     },
     "execution_count": 205,
     "metadata": {},
     "output_type": "execute_result"
    }
   ],
   "source": [
    "lasso_rmse = mean_squared_error(y_train, pipe_lasso.predict(X_train))\n",
    "lasso_rmse"
   ]
  },
  {
   "cell_type": "markdown",
   "id": "a37969fb",
   "metadata": {},
   "source": [
    "# 3. Ridge Regression\n",
    "\n",
    "# Plot\n",
    "The plot demonstrates that as the data set variables increase, the Root Squared line becomes straight line, indicating that the data set is strongly overfitted along the variable lines. with a given value of > 93% indicates that the data set is less diversified. however, the plot shows a steady decline."
   ]
  },
  {
   "cell_type": "code",
   "execution_count": 206,
   "id": "cf1bec2c",
   "metadata": {},
   "outputs": [
    {
     "data": {
      "image/png": "[encoded data removed]",
      "text/plain": [
       "<Figure size 432x288 with 1 Axes>"
      ]
     },
     "metadata": {
      "needs_background": "light"
     },
     "output_type": "display_data"
    }
   ],
   "source": [
    "# ridge regression and K-fold cross validation\n",
    "poly = PolynomialFeatures(degree=4)\n",
    "alphas = np.geomspace(6, 10, 10)\n",
    "scores=[]\n",
    "preds_reg = []\n",
    "for alpha in alphas:\n",
    "    rid_reg = Ridge(alpha=alpha, max_iter=100000)\n",
    "\n",
    "    pipe = Pipeline([\n",
    "        (\"scaler\", scaling),\n",
    "        (\"feature\", poly),\n",
    "        (\"reg_alpha\", rid_reg)])\n",
    "\n",
    "    preds_reg = cross_val_predict(pipe, X_train, y_train, cv = k_fold)\n",
    "    \n",
    "    score = r2_score(y_train, preds_reg)\n",
    "    scores.append(score)\n",
    "\n",
    "plt.plot(alphas, scores, '-o', color='red')\n",
    "plt.title('Ridge Regression')\n",
    "plt.xlabel('$\\\\alpha$')\n",
    "plt.ylabel('$R^2$');"
   ]
  },
  {
   "cell_type": "markdown",
   "id": "123a3434",
   "metadata": {},
   "source": [
    "# 3.a R^2 Score\n",
    "Higher R-squared values for the same data set imply less variance between the fitted values and the observed data. The proportion of variation in the dependent variable that a linear model controls has been quantified using R-squared. That indicates the Root Square's variation of 93.83% is relatively higher."
   ]
  },
  {
   "cell_type": "code",
   "execution_count": 207,
   "id": "0c000cd9",
   "metadata": {},
   "outputs": [
    {
     "data": {
      "text/plain": [
       "0.9383014449704138"
      ]
     },
     "execution_count": 207,
     "metadata": {},
     "output_type": "execute_result"
    }
   ],
   "source": [
    "pipe_rid = Pipeline([\n",
    "                    (\"scaler\", scaling),\n",
    "                    (\"Poly\", PolynomialFeatures(degree=4)),\n",
    "                    (\"reg_alpha\", Ridge(alpha=0.5))])\n",
    "\n",
    "pipe_rid.fit(X_train, y_train)\n",
    "rid_score = pipe_rid.score(X_train, y_train)\n",
    "rid_score"
   ]
  },
  {
   "cell_type": "markdown",
   "id": "931af570",
   "metadata": {},
   "source": [
    "# 3.b Ridge RMSE\n",
    "A Ridge Regression model may fit a dataset more accurately as the result generates a lower RMSE. When the RMSE is low, the simulated and observed data are more accurate since they are close to one another, at which RMSE is 0.00321."
   ]
  },
  {
   "cell_type": "code",
   "execution_count": 208,
   "id": "32cc78d2",
   "metadata": {},
   "outputs": [
    {
     "data": {
      "text/plain": [
       "0.003210369835032685"
      ]
     },
     "execution_count": 208,
     "metadata": {},
     "output_type": "execute_result"
    }
   ],
   "source": [
    "ridge_rmse = mean_squared_error(y_train, pipe_rid.predict(X_train))\n",
    "ridge_rmse"
   ]
  },
  {
   "cell_type": "markdown",
   "id": "7d9758fe",
   "metadata": {},
   "source": [
    "# Data Frame\n",
    "# Table 1.\n",
    "The Table below, compares the results of the three regression models along the score values."
   ]
  },
  {
   "cell_type": "code",
   "execution_count": 209,
   "id": "e0d3eb90",
   "metadata": {},
   "outputs": [
    {
     "data": {
      "text/html": [
       "<div>\n",
       "<style scoped>\n",
       "    .dataframe tbody tr th:only-of-type {\n",
       "        vertical-align: middle;\n",
       "    }\n",
       "\n",
       "    .dataframe tbody tr th {\n",
       "        vertical-align: top;\n",
       "    }\n",
       "\n",
       "    .dataframe thead th {\n",
       "        text-align: right;\n",
       "    }\n",
       "</style>\n",
       "<table border=\"1\" class=\"dataframe\">\n",
       "  <thead>\n",
       "    <tr style=\"text-align: right;\">\n",
       "      <th></th>\n",
       "      <th>linear</th>\n",
       "      <th>lasso</th>\n",
       "      <th>ridge</th>\n",
       "    </tr>\n",
       "  </thead>\n",
       "  <tbody>\n",
       "    <tr>\n",
       "      <th>score</th>\n",
       "      <td>0.757155</td>\n",
       "      <td>0.009255</td>\n",
       "      <td>0.938301</td>\n",
       "    </tr>\n",
       "  </tbody>\n",
       "</table>\n",
       "</div>"
      ],
      "text/plain": [
       "         linear     lasso     ridge\n",
       "score  0.757155  0.009255  0.938301"
      ]
     },
     "execution_count": 209,
     "metadata": {},
     "output_type": "execute_result"
    }
   ],
   "source": [
    "pd.DataFrame([[lin_score, las_score, rid_score]],columns=['linear', 'lasso', 'ridge'], index=['score'])\n"
   ]
  },
  {
   "cell_type": "markdown",
   "id": "d257a8fe",
   "metadata": {},
   "source": [
    "# Table 2.\n",
    "The table displays the model of regressions, the root scores, the root mean square error, and predictions of all the dataset."
   ]
  },
  {
   "cell_type": "code",
   "execution_count": 224,
   "id": "c8d68c6a",
   "metadata": {},
   "outputs": [
    {
     "data": {
      "text/html": [
       "<div>\n",
       "<style scoped>\n",
       "    .dataframe tbody tr th:only-of-type {\n",
       "        vertical-align: middle;\n",
       "    }\n",
       "\n",
       "    .dataframe tbody tr th {\n",
       "        vertical-align: top;\n",
       "    }\n",
       "\n",
       "    .dataframe thead th {\n",
       "        text-align: right;\n",
       "    }\n",
       "</style>\n",
       "<table border=\"1\" class=\"dataframe\">\n",
       "  <thead>\n",
       "    <tr style=\"text-align: right;\">\n",
       "      <th></th>\n",
       "      <th>Model</th>\n",
       "      <th>Score</th>\n",
       "      <th>RMSE</th>\n",
       "      <th>Prediction</th>\n",
       "    </tr>\n",
       "  </thead>\n",
       "  <tbody>\n",
       "    <tr>\n",
       "      <th>0</th>\n",
       "      <td>Linear Regression</td>\n",
       "      <td>0.757155</td>\n",
       "      <td>0.013030</td>\n",
       "      <td>[0.7909248035002171, 0.6247258661807228, 0.837...</td>\n",
       "    </tr>\n",
       "    <tr>\n",
       "      <th>1</th>\n",
       "      <td>Lasso Regression</td>\n",
       "      <td>0.009255</td>\n",
       "      <td>0.051552</td>\n",
       "      <td>[0.6141919230447888, 0.614191923053677, 0.6141...</td>\n",
       "    </tr>\n",
       "    <tr>\n",
       "      <th>2</th>\n",
       "      <td>Ridge Regression</td>\n",
       "      <td>0.938301</td>\n",
       "      <td>0.003210</td>\n",
       "      <td>[0.7795964647690476, 0.6109586207595415, 0.878...</td>\n",
       "    </tr>\n",
       "  </tbody>\n",
       "</table>\n",
       "</div>"
      ],
      "text/plain": [
       "               Model     Score      RMSE  \\\n",
       "0  Linear Regression  0.757155  0.013030   \n",
       "1   Lasso Regression  0.009255  0.051552   \n",
       "2   Ridge Regression  0.938301  0.003210   \n",
       "\n",
       "                                          Prediction  \n",
       "0  [0.7909248035002171, 0.6247258661807228, 0.837...  \n",
       "1  [0.6141919230447888, 0.614191923053677, 0.6141...  \n",
       "2  [0.7795964647690476, 0.6109586207595415, 0.878...  "
      ]
     },
     "execution_count": 224,
     "metadata": {},
     "output_type": "execute_result"
    }
   ],
   "source": [
    "result_df = pd.DataFrame({'Model': ['Linear Regression','Lasso Regression', 'Ridge Regression'],\n",
    "                         'Score': [lin_score, las_score, rid_score], \n",
    "                         'RMSE' : [lin_Regr_rmse, lasso_rmse, ridge_rmse],\n",
    "                         'Prediction': [preds_lrg, predict_reg,preds_reg]})\n",
    "result_df"
   ]
  },
  {
   "cell_type": "markdown",
   "id": "71f4f686",
   "metadata": {},
   "source": [
    "# CONCLUSION\n",
    "Due to pandamic, the provided data cannot accurately reflect the global market's true impact. Due to a lack of equipment in some developing countries, there aren't enough cases to report. On the other hand, developed nations have sufficient testing facilities and offer more cases for both testing and showing. Perhaps gathering more frequent data on specific countries might help to produce more precise results when predicting the impact on GDP for a particular country.\n",
    "\n"
   ]
  },
  {
   "cell_type": "markdown",
   "id": "8535e141",
   "metadata": {},
   "source": [
    "The ridge regression has the best Root Squared of 93.8% but the lowest Root Mean Square Error of 3.2%, suggesting a more accurate relationship between the observed data and the training. Each regression produces different score values."
   ]
  },
  {
   "cell_type": "markdown",
   "id": "fb3501e7",
   "metadata": {},
   "source": [
    "When applying linear regression, the score result for Root Squared is 75.7%, which falls between moderate and high data discrepancy. indicates a lower Root Mean Square Error of 1.3%, showing a more accurate relationship between the observed and training data."
   ]
  },
  {
   "cell_type": "markdown",
   "id": "299fff18",
   "metadata": {},
   "source": [
    "There is no correlation between the variable data in the Lasso regression, which has a score value of root squared of 0.9%. In a similar way, the root mean square error of 5.1% is larger than the three regressions i took into consideration, indicating that it does not adequately describe the relationship between the training data and the observed data."
   ]
  },
  {
   "cell_type": "markdown",
   "id": "4d33ed51",
   "metadata": {},
   "source": [
    "The Ridge regression type, which shows a relationship between the training and testing data sets, is the best model I would recommend using.\n",
    "\n",
    "As a result, I would consider using the Ridge model, as it best fits the data in terms of accuracy scores."
   ]
  },
  {
   "cell_type": "code",
   "execution_count": null,
   "id": "5b8b02de",
   "metadata": {},
   "outputs": [],
   "source": []
  }
 ],
 "metadata": {
  "kernelspec": {
   "display_name": "Python 3 (ipykernel)",
   "language": "python",
   "name": "python3"
  },
  "language_info": {
   "codemirror_mode": {
    "name": "ipython",
    "version": 3
   },
   "file_extension": ".py",
   "mimetype": "text/x-python",
   "name": "python",
   "nbconvert_exporter": "python",
   "pygments_lexer": "ipython3",
   "version": "3.9.7"
  }
 },
 "nbformat": 4,
 "nbformat_minor": 5
}
